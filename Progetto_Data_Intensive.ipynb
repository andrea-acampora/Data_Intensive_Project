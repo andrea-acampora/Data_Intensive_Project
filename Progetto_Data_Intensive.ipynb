{
  "nbformat": 4,
  "nbformat_minor": 0,
  "metadata": {
    "colab": {
      "name": "Progetto_Data_Intensive.ipynb",
      "provenance": [],
      "collapsed_sections": [],
      "toc_visible": true,
      "authorship_tag": "ABX9TyNQhJqm6SLVZWghtsmPxts6",
      "include_colab_link": true
    },
    "kernelspec": {
      "name": "python3",
      "display_name": "Python 3"
    },
    "language_info": {
      "name": "python"
    }
  },
  "cells": [
    {
      "cell_type": "markdown",
      "metadata": {
        "id": "view-in-github",
        "colab_type": "text"
      },
      "source": [
        "<a href=\"https://colab.research.google.com/github/andrea-acampora/Data_Intensive_Project/blob/main/Progetto_Data_Intensive.ipynb\" target=\"_parent\"><img src=\"https://colab.research.google.com/assets/colab-badge.svg\" alt=\"Open In Colab\"/></a>"
      ]
    },
    {
      "cell_type": "markdown",
      "metadata": {
        "id": "BFCw97PbCE23"
      },
      "source": [
        "# **Predizione della salute del feto con dati forniti da cardiotocografie**\n",
        "\n",
        "***Acampora Andrea***\n",
        "\n",
        "Ingegneria e Scienze Informatiche \\\\\n",
        "Università di Bologna, sede di Cesena \\\\\n",
        "Corso di Programmazione di Applicazioni Data Intensive"
      ]
    },
    {
      "cell_type": "markdown",
      "metadata": {
        "id": "pdO7iFyNEBwy"
      },
      "source": [
        "## Descrizione del problema e analisi esplorativa\n",
        "\n",
        "Il dataset scelto contiene i risultati di cardiotocografie eseguite sui feti durante la gravidanza.\n",
        "La cardiotocografia è un esame molto diffuso per la valutazione del benessere del feto in ambito prenatale.\n",
        "L'obbiettivo del progetto è quello di riuscire a prevedere una variabile discreta che rappresenta la salute del feto in base ai dati forniti dalle cardiotocografie."
      ]
    },
    {
      "cell_type": "markdown",
      "metadata": {
        "id": "ZR74Ig73Gj3_"
      },
      "source": [
        "### Caricamento dei dati e preprocessing\n",
        "\n",
        "Vengono importate tutte le librerie neccesarie per il progetto"
      ]
    },
    {
      "cell_type": "code",
      "metadata": {
        "id": "0rX1hDk5Gqed"
      },
      "source": [
        "%matplotlib inline\n",
        "\n",
        "import numpy as np\n",
        "import pandas as pd\n",
        "\n",
        "import matplotlib.pyplot as plt\n",
        "import seaborn as sns\n",
        "import os.path\n",
        "\n",
        "from sklearn.model_selection import cross_val_score\n",
        "from sklearn.model_selection import StratifiedKFold\n",
        "from sklearn.preprocessing import StandardScaler\n",
        "from sklearn.model_selection import train_test_split\n",
        "from sklearn import linear_model\n",
        "from sklearn.linear_model import LogisticRegression\n",
        "from sklearn.neighbors import KNeighborsClassifier\n",
        "from sklearn.ensemble import RandomForestClassifier\n",
        "from sklearn.ensemble import GradientBoostingClassifier\n",
        "from sklearn.model_selection import GridSearchCV\n",
        "from sklearn.metrics import classification_report, confusion_matrix\n",
        "from sklearn.metrics import mean_squared_error\n",
        "from sklearn.model_selection import learning_curve"
      ],
      "execution_count": 9,
      "outputs": []
    },
    {
      "cell_type": "code",
      "metadata": {
        "id": "ukRTcwDKHDHv"
      },
      "source": [
        "import os.path\n",
        "if not os.path.exists(\"fetal_health.csv\"):\n",
        "    from urllib.request import urlretrieve\n",
        "    urlretrieve(\"https://github.com/andrea-acampora/Data_Intensive_Project/blob/main/fetal_health.csv\", \"fetal_health.csv\")\n",
        "\n",
        "#dataset = pd.read_csv('fetal_health.csv')"
      ],
      "execution_count": 11,
      "outputs": []
    }
  ]
}